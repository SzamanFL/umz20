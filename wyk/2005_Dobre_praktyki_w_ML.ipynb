{
 "cells": [
  {
   "cell_type": "markdown",
   "metadata": {
    "slideshow": {
     "slide_type": "slide"
    }
   },
   "source": [
    "## Uczenie maszynowe UMZ 2018/2019\n",
    "# 5. Dobre praktyki w uczeniu maszynowym"
   ]
  },
  {
   "cell_type": "markdown",
   "metadata": {
    "slideshow": {
     "slide_type": "slide"
    }
   },
   "source": [
    "## 5.1. Metodologia testowania"
   ]
  },
  {
   "cell_type": "markdown",
   "metadata": {
    "slideshow": {
     "slide_type": "notes"
    }
   },
   "source": [
    "W uczeniu maszynowym bardzo ważna jest ewaluacja budowanego modelu. Dlatego dobrze jest podzielić posiadane dane na odrębne zbiory – osobny zbiór danych do uczenia i osobny do testowania. W niektórych przypadkach potrzeba będzie dodatkowo wyodrębnić tzw. zbiór walidacyjny."
   ]
  },
  {
   "cell_type": "markdown",
   "metadata": {
    "slideshow": {
     "slide_type": "subslide"
    }
   },
   "source": [
    "### Zbiór uczący a zbiór testowy"
   ]
  },
  {
   "cell_type": "markdown",
   "metadata": {
    "slideshow": {
     "slide_type": "fragment"
    }
   },
   "source": [
    "* Na zbiorze uczącym (treningowym) uczymy algorytmy, a na zbiorze testowym sprawdzamy ich poprawność.\n",
    "* Zbiór uczący powinien być kilkukrotnie większy od testowego (np. 4:1, 9:1 itp.).\n",
    "* Zbiór testowy często jest nieznany.\n",
    "* Należy unikać mieszania danych testowych i treningowych – nie wolno „zanieczyszczać” danych treningowych danymi testowymi!"
   ]
  },
  {
   "cell_type": "markdown",
   "metadata": {
    "slideshow": {
     "slide_type": "subslide"
    }
   },
   "source": [
    "Czasami potrzebujemy dobrać parametry modelu, np. $\\alpha$ – który zbiór wykorzystać do tego celu?"
   ]
  },
  {
   "cell_type": "markdown",
   "metadata": {
    "slideshow": {
     "slide_type": "subslide"
    }
   },
   "source": [
    "### Zbiór walidacyjny"
   ]
  },
  {
   "cell_type": "markdown",
   "metadata": {
    "slideshow": {
     "slide_type": "fragment"
    }
   },
   "source": [
    "Do doboru parametrów najlepiej użyć jeszcze innego zbioru – jest to tzw. **zbiór walidacyjny**"
   ]
  },
  {
   "cell_type": "markdown",
   "metadata": {
    "slideshow": {
     "slide_type": "fragment"
    }
   },
   "source": [
    " * Zbiór walidacyjny powinien mieć wielkość zbliżoną do wielkości zbioru testowego, czyli np. dane można podzielić na te trzy zbiory w proporcjach 3:1:1, 8:1:1 itp."
   ]
  },
  {
   "cell_type": "markdown",
   "metadata": {
    "slideshow": {
     "slide_type": "slide"
    }
   },
   "source": [
    "### Walidacja krzyżowa"
   ]
  },
  {
   "cell_type": "markdown",
   "metadata": {
    "slideshow": {
     "slide_type": "fragment"
    }
   },
   "source": [
    "Którą część danych wydzielić jako zbiór walidacyjny tak, żeby było „najlepiej”?"
   ]
  },
  {
   "cell_type": "markdown",
   "metadata": {
    "slideshow": {
     "slide_type": "fragment"
    }
   },
   "source": [
    " * Niech każda partia danych pełni tę rolę naprzemiennie!"
   ]
  },
  {
   "cell_type": "markdown",
   "metadata": {
    "slideshow": {
     "slide_type": "subslide"
    }
   },
   "source": [
    "<img width=\"100%\" src=\"https://chrisjmccormick.files.wordpress.com/2013/07/10_fold_cv.png\"/>\n",
    "Żródło: https://chrisjmccormick.wordpress.com/2013/07/31/k-fold-cross-validation-with-matlab-code/"
   ]
  },
  {
   "cell_type": "markdown",
   "metadata": {
    "slideshow": {
     "slide_type": "subslide"
    }
   },
   "source": [
    "### Walidacja krzyżowa\n",
    "\n",
    "* Podziel dane $D = \\left\\{ (x^{(1)}, y^{(1)}), \\ldots, (x^{(m)}, y^{(m)})\\right\\} $ na $N$ rozłącznych zbiorów $T_1,\\ldots,T_N$\n",
    "* Dla $i=1,\\ldots,N$, wykonaj:\n",
    "    * Użyj $T_i$ do walidacji i zbiór $S_i$ do trenowania, gdzie $S_i = D \\smallsetminus T_i$. \n",
    "    * Zapisz model $\\theta_i$.\n",
    "* Akumuluj wyniki dla modeli $\\theta_i$ dla zbiorów $T_i$.\n",
    "* Ustalaj parametry uczenia na akumulowanych wynikach."
   ]
  },
  {
   "cell_type": "markdown",
   "metadata": {
    "slideshow": {
     "slide_type": "subslide"
    }
   },
   "source": [
    "### Walidacja krzyżowa – wskazówki\n",
    "\n",
    "* Zazwyczaj ustala się $N$ w przedziale od $4$ do $10$, tzw. $N$-krotna walidacja krzyżowa (_$N$-fold cross validation_). \n",
    "* Zbiór $D$ warto zrandomizować przed podziałem.\n",
    "* W jaki sposób akumulować wyniki dla wszystkich zbiórow $T_i$?\n",
    "* Po ustaleniu parametrów dla każdego $T_i$, trenujemy model na całych danych treningowych z ustalonymi parametrami.\n",
    "* Testujemy na zbiorze testowym (jeśli nim dysponujemy)."
   ]
  },
  {
   "cell_type": "markdown",
   "metadata": {
    "slideshow": {
     "slide_type": "subslide"
    }
   },
   "source": [
    "### _Leave-one-out_\n",
    "\n",
    "Jest to szczególny przypadek walidacji krzyżowej, w której $N = m$."
   ]
  },
  {
   "cell_type": "markdown",
   "metadata": {
    "slideshow": {
     "slide_type": "fragment"
    }
   },
   "source": [
    "* Jaki jest rozmiar pojedynczego zbioru $T_i$?\n",
    "* Jakie są zalety i wady tej metody?\n",
    "* Kiedy może być przydatna?"
   ]
  },
  {
   "cell_type": "markdown",
   "metadata": {
    "slideshow": {
     "slide_type": "subslide"
    }
   },
   "source": [
    "### Zbiór walidujący a algorytmy optymalizacji\n",
    "\n",
    "* Gdy błąd rośnie na zbiorze uczącym, mamy źle dobrany parametr $\\alpha$. Należy go wtedy zmniejszyć.\n",
    "* Gdy błąd zmniejsza się na zbiorze trenującym, ale rośnie na zbiorze walidującym, mamy do czynienia ze zjawiskiem **nadmiernego dopasowania** (_overfitting_).\n",
    "* Należy wtedy przerwać optymalizację. Automatyzacja tego procesu to _early stopping_."
   ]
  },
  {
   "cell_type": "markdown",
   "metadata": {
    "slideshow": {
     "slide_type": "slide"
    }
   },
   "source": [
    "## 5.2. Regularyzacja"
   ]
  },
  {
   "cell_type": "code",
   "execution_count": 1,
   "metadata": {
    "slideshow": {
     "slide_type": "notes"
    }
   },
   "outputs": [],
   "source": [
    "# Przydatne importy\n",
    "\n",
    "import ipywidgets as widgets\n",
    "import matplotlib.pyplot as plt\n",
    "import numpy as np\n",
    "import pandas\n",
    "\n",
    "%matplotlib inline"
   ]
  },
  {
   "cell_type": "code",
   "execution_count": 2,
   "metadata": {
    "slideshow": {
     "slide_type": "notes"
    }
   },
   "outputs": [],
   "source": [
    "# Przydatne funkcje\n",
    "\n",
    "# Wersja macierzowa funkcji kosztu\n",
    "def cost(theta, X, y):\n",
    "    m = len(y)\n",
    "    J = 1.0 / (2.0 * m) * ((X * theta - y).T * (X * theta - y))\n",
    "    return J.item()\n",
    "\n",
    "# Wersja macierzowa gradientu funkcji kosztu\n",
    "def gradient(theta, X, y):\n",
    "    return 1.0 / len(y) * (X.T * (X * theta - y)) \n",
    "\n",
    "# Algorytm gradientu prostego (wersja macierzowa)\n",
    "def gradient_descent(fJ, fdJ, theta, X, y, alpha=0.1, eps=10**-5):\n",
    "    current_cost = fJ(theta, X, y)\n",
    "    logs = [[current_cost, theta]]\n",
    "    while True:\n",
    "        theta = theta - alpha * fdJ(theta, X, y)\n",
    "        current_cost, prev_cost = fJ(theta, X, y), current_cost\n",
    "        if abs(prev_cost - current_cost) > 10**15:\n",
    "            print('Algorithm does not converge!')\n",
    "            break\n",
    "        if abs(prev_cost - current_cost) <= eps:\n",
    "            break\n",
    "        logs.append([current_cost, theta]) \n",
    "    return theta, logs\n",
    "\n",
    "# Wykres danych (wersja macierzowa)\n",
    "def plot_data(X, y, xlabel, ylabel):    \n",
    "    fig = plt.figure(figsize=(16*.6, 9*.6))\n",
    "    ax = fig.add_subplot(111)\n",
    "    fig.subplots_adjust(left=0.1, right=0.9, bottom=0.1, top=0.9)\n",
    "    ax.scatter([X[:, 1]], [y], c='r', s=50, label='Dane')\n",
    "    \n",
    "    ax.set_xlabel(xlabel)\n",
    "    ax.set_ylabel(ylabel)\n",
    "    ax.margins(.05, .05)\n",
    "    plt.ylim(y.min() - 1, y.max() + 1)\n",
    "    plt.xlim(np.min(X[:, 1]) - 1, np.max(X[:, 1]) + 1)\n",
    "    return fig\n",
    "\n",
    "# Wykres funkcji fun\n",
    "def plot_fun(fig, fun, X):\n",
    "    ax = fig.axes[0]\n",
    "    x0 = np.min(X[:, 1]) - 1.0\n",
    "    x1 = np.max(X[:, 1]) + 1.0\n",
    "    Arg = np.arange(x0, x1, 0.1)\n",
    "    Val = fun(Arg)\n",
    "    return ax.plot(Arg, Val, linewidth='2')"
   ]
  },
  {
   "cell_type": "code",
   "execution_count": 3,
   "metadata": {
    "slideshow": {
     "slide_type": "notes"
    }
   },
   "outputs": [],
   "source": [
    "def powerme(x1,x2,n):\n",
    "    X = []\n",
    "    for m in range(n+1):\n",
    "        for i in range(m+1):\n",
    "            X.append(np.multiply(np.power(x1,i),np.power(x2,(m-i))))\n",
    "    return np.hstack(X)"
   ]
  },
  {
   "cell_type": "code",
   "execution_count": 4,
   "metadata": {
    "slideshow": {
     "slide_type": "notes"
    }
   },
   "outputs": [],
   "source": [
    "def safeSigmoid(x, eps=0):\n",
    "    y = 1.0/(1.0 + np.exp(-x))\n",
    "    if eps > 0:\n",
    "        y[y < eps] = eps\n",
    "        y[y > 1 - eps] = 1 - eps\n",
    "    return y\n",
    "\n",
    "def h(theta, X, eps=0.0):\n",
    "    return safeSigmoid(X*theta, eps)\n",
    "\n",
    "def J(h,theta,X,y, lamb=0):\n",
    "    m = len(y)\n",
    "    f = h(theta, X, eps=10**-7)\n",
    "    j = -np.sum(np.multiply(y, np.log(f)) + \n",
    "                np.multiply(1 - y, np.log(1 - f)), axis=0)/m\n",
    "    if lamb > 0:\n",
    "        j += lamb/(2*m) * np.sum(np.power(theta[1:],2))\n",
    "    return j\n",
    "\n",
    "def dJ(h,theta,X,y,lamb=0):\n",
    "    g = 1.0/y.shape[0]*(X.T*(h(theta,X)-y))\n",
    "    if lamb > 0:\n",
    "        g[1:] += lamb/float(y.shape[0]) * theta[1:] \n",
    "    return g\n",
    "\n",
    "def classifyBi(theta, X):\n",
    "    prob = h(theta, X)\n",
    "    return prob"
   ]
  },
  {
   "cell_type": "code",
   "execution_count": 5,
   "metadata": {
    "slideshow": {
     "slide_type": "notes"
    }
   },
   "outputs": [],
   "source": [
    "def SGD(h, fJ, fdJ, theta, X, Y, \n",
    "        alpha=0.001, maxEpochs=1.0, batchSize=100, \n",
    "        adaGrad=False, logError=False, validate=0.0, valStep=100, lamb=0, trainsetsize=1.0):\n",
    "    errorsX, errorsY = [], []\n",
    "    errorsVX, errorsVY = [], []\n",
    "    \n",
    "    XT, YT = X, Y\n",
    "    \n",
    "    m_end=int(trainsetsize*len(X))\n",
    "    \n",
    "    if validate > 0:\n",
    "        mv = int(X.shape[0] * validate)\n",
    "        XV, YV = X[:mv], Y[:mv] \n",
    "        XT, YT = X[mv:m_end], Y[mv:m_end] \n",
    "    m, n = XT.shape\n",
    "\n",
    "    start, end = 0, batchSize\n",
    "    maxSteps = (m * float(maxEpochs)) / batchSize\n",
    "    \n",
    "    if adaGrad:\n",
    "        hgrad = np.matrix(np.zeros(n)).reshape(n,1)\n",
    "    \n",
    "    for i in range(int(maxSteps)):\n",
    "        XBatch, YBatch =  XT[start:end,:], YT[start:end,:]\n",
    "\n",
    "        grad = fdJ(h, theta, XBatch, YBatch, lamb=lamb)\n",
    "        if adaGrad:\n",
    "            hgrad += np.multiply(grad, grad)\n",
    "            Gt = 1.0 / (10**-7 + np.sqrt(hgrad))\n",
    "            theta = theta - np.multiply(alpha * Gt, grad)\n",
    "        else:\n",
    "            theta = theta - alpha * grad\n",
    "        \n",
    "        if logError:\n",
    "            errorsX.append(float(i*batchSize)/m)\n",
    "            errorsY.append(fJ(h, theta, XBatch, YBatch).item())\n",
    "            if validate > 0 and i % valStep == 0:\n",
    "                errorsVX.append(float(i*batchSize)/m)\n",
    "                errorsVY.append(fJ(h, theta, XV, YV).item())\n",
    "        \n",
    "        if start + batchSize < m:\n",
    "            start += batchSize\n",
    "        else:\n",
    "            start = 0\n",
    "        end = min(start + batchSize, m)\n",
    "    return theta, (errorsX, errorsY, errorsVX, errorsVY)"
   ]
  },
  {
   "cell_type": "code",
   "execution_count": 6,
   "metadata": {
    "slideshow": {
     "slide_type": "notes"
    }
   },
   "outputs": [],
   "source": [
    "# Przygotowanie danych do przykładu regularyzacji\n",
    "\n",
    "n = 6\n",
    "\n",
    "data = np.matrix(np.loadtxt(\"ex2data2.txt\", delimiter=\",\"))\n",
    "np.random.shuffle(data)\n",
    "\n",
    "X = powerme(data[:,0], data[:,1], n)\n",
    "Y = data[:,2]"
   ]
  },
  {
   "cell_type": "code",
   "execution_count": 7,
   "metadata": {
    "slideshow": {
     "slide_type": "notes"
    }
   },
   "outputs": [],
   "source": [
    "def draw_regularization_example(X, Y, lamb=0, alpha=1, adaGrad=True, maxEpochs=2500, validate=0.25):\n",
    "    plt.figure(figsize=(16,8))\n",
    "    plt.subplot(121)\n",
    "    plt.scatter(X[:, 2].tolist(), X[:, 1].tolist(),\n",
    "                c=Y.tolist(),\n",
    "                s=100, cmap=plt.cm.get_cmap('prism'));\n",
    "\n",
    "    theta = np.matrix(np.zeros(X.shape[1])).reshape(X.shape[1],1)\n",
    "    thetaBest, err = SGD(h, J, dJ, theta, X, Y, alpha=alpha, adaGrad=adaGrad, maxEpochs=maxEpochs, batchSize=100, \n",
    "                         logError=True, validate=validate, valStep=1, lamb=lamb)\n",
    "\n",
    "    xx, yy = np.meshgrid(np.arange(-1.5, 1.5, 0.02),\n",
    "                         np.arange(-1.5, 1.5, 0.02))\n",
    "    l = len(xx.ravel())\n",
    "    C = powerme(xx.reshape(l, 1),yy.reshape(l, 1), n)\n",
    "    z = classifyBi(thetaBest, C).reshape(int(np.sqrt(l)), int(np.sqrt(l)))\n",
    "\n",
    "    plt.contour(xx, yy, z, levels=[0.5], lw=3);\n",
    "    plt.ylim(-1,1.2);\n",
    "    plt.xlim(-1,1.2);\n",
    "    plt.legend();\n",
    "    plt.subplot(122)\n",
    "    plt.plot(err[0],err[1], lw=3, label=\"Training error\")\n",
    "    if validate > 0:\n",
    "        plt.plot(err[2],err[3], lw=3, label=\"Validation error\");\n",
    "    plt.legend()\n",
    "    plt.ylim(0.2,0.8);"
   ]
  },
  {
   "cell_type": "code",
   "execution_count": 8,
   "metadata": {
    "slideshow": {
     "slide_type": "subslide"
    }
   },
   "outputs": [
    {
     "name": "stderr",
     "output_type": "stream",
     "text": [
      "/home/pawel/anaconda3/lib/python3.7/site-packages/ipykernel_launcher.py:18: UserWarning: The following kwargs were not used by contour: 'lw'\n",
      "No handles with labels found to put in legend.\n"
     ]
    },
    {
     "data": {
      "image/png": "[encoded data removed]",
      "text/plain": [
       "<Figure size 1152x576 with 2 Axes>"
      ]
     },
     "metadata": {
      "needs_background": "light"
     },
     "output_type": "display_data"
    }
   ],
   "source": [
    "draw_regularization_example(X, Y)"
   ]
  },
  {
   "cell_type": "markdown",
   "metadata": {
    "slideshow": {
     "slide_type": "slide"
    }
   },
   "source": [
    "### Regularyzacja\n",
    "\n",
    "Regularyzacja jest metodą zapobiegania zjawisku nadmiernego dopasowania (*overfitting*) poprzez odpowiednie zmodyfikowanie funkcji kosztu.\n",
    "\n",
    "Do funkcji kosztu dodawane jest specjalne wyrażenie (**wyrazenie regularyzacyjne** – zaznaczone na czerwono w poniższych wzorach), będące „karą” za ekstremalne wartości parametrów $\\theta$.\n",
    "\n",
    "W ten sposób preferowane są wektory $\\theta$ z mniejszymi wartosciami parametrów – mają automatycznie niższy koszt.\n",
    "\n",
    "Jak silną regularyzację chcemy zastosować? Możemy o tym zadecydować, dobierajac odpowiednio **parametr regularyzacji** $\\lambda$."
   ]
  },
  {
   "cell_type": "markdown",
   "metadata": {
    "slideshow": {
     "slide_type": "subslide"
    }
   },
   "source": [
    "### Regularyzacja dla regresji liniowej – funkcja kosztu\n",
    "\n",
    "$$\n",
    "J(\\theta) \\, = \\, \\dfrac{1}{2m} \\left( \\displaystyle\\sum_{i=1}^{m} h_\\theta(x^{(i)}) - y^{(i)} \\color{red}{ + \\lambda \\displaystyle\\sum_{j=1}^{n} \\theta^2_j } \\right)\n",
    "$$"
   ]
  },
  {
   "cell_type": "markdown",
   "metadata": {
    "slideshow": {
     "slide_type": "fragment"
    }
   },
   "source": [
    "* $\\lambda$ – parametr regularyzacji\n",
    "* jeżeli $\\lambda$ jest zbyt mały, skutkuje to nadmiernym dopasowaniem\n",
    "* jeżeli $\\lambda$ jest zbyt duży, skutkuje to niedostatecznym dopasowaniem"
   ]
  },
  {
   "cell_type": "markdown",
   "metadata": {
    "slideshow": {
     "slide_type": "subslide"
    }
   },
   "source": [
    "### Regularyzacja dla regresji liniowej – gradient\n",
    "\n",
    "$$\\small\n",
    "\\begin{array}{llll}\n",
    "\\dfrac{\\partial J(\\theta)}{\\partial \\theta_0} &=& \\dfrac{1}{m}\\displaystyle\\sum_{i=1}^m \\left( h_{\\theta}(x^{(i)})-y^{(i)} \\right) x^{(i)}_0 & \\textrm{dla $j = 0$ }\\\\\n",
    "\\dfrac{\\partial J(\\theta)}{\\partial \\theta_j} &=& \\dfrac{1}{m}\\displaystyle\\sum_{i=1}^m \\left( h_{\\theta}(x^{(i)})-y^{(i)} \\right) x^{(i)}_j \\color{red}{+ \\dfrac{\\lambda}{m}\\theta_j} & \\textrm{dla $j = 1, 2, \\ldots, n $} \\\\\n",
    "\\end{array} \n",
    "$$"
   ]
  },
  {
   "cell_type": "markdown",
   "metadata": {
    "slideshow": {
     "slide_type": "subslide"
    }
   },
   "source": [
    "### Regularyzacja dla regresji logistycznej – funkcja kosztu\n",
    "\n",
    "$$\n",
    "\\begin{array}{rtl}\n",
    "J(\\theta) & = & -\\dfrac{1}{m} \\left( \\displaystyle\\sum_{i=1}^{m} y^{(i)} \\log h_\\theta(x^{(i)}) + \\left( 1-y^{(i)} \\right) \\log \\left( 1-h_\\theta(x^{(i)}) \\right) \\right) \\\\\n",
    "& & \\color{red}{ + \\dfrac{\\lambda}{2m} \\displaystyle\\sum_{j=1}^{n} \\theta^2_j } \\\\\n",
    "\\end{array}\n",
    "$$"
   ]
  },
  {
   "cell_type": "markdown",
   "metadata": {
    "slideshow": {
     "slide_type": "subslide"
    }
   },
   "source": [
    "### Regularyzacja dla regresji logistycznej – gradient\n",
    "\n",
    "$$\\small\n",
    "\\begin{array}{llll}\n",
    "\\dfrac{\\partial J(\\theta)}{\\partial \\theta_0} &=& \\dfrac{1}{m}\\displaystyle\\sum_{i=1}^m \\left( h_{\\theta}(x^{(i)})-y^{(i)} \\right) x^{(i)}_0 & \\textrm{dla $j = 0$ }\\\\\n",
    "\\dfrac{\\partial J(\\theta)}{\\partial \\theta_j} &=& \\dfrac{1}{m}\\displaystyle\\sum_{i=1}^m \\left( h_{\\theta}(x^{(i)})-y^{(i)} \\right) x^{(i)}_j \\color{red}{+ \\dfrac{\\lambda}{m}\\theta_j} & \\textrm{dla $j = 1, 2, \\ldots, n $} \\\\\n",
    "\\end{array} \n",
    "$$"
   ]
  },
  {
   "cell_type": "markdown",
   "metadata": {
    "slideshow": {
     "slide_type": "slide"
    }
   },
   "source": [
    "### Implementacja metody regularyzacji"
   ]
  },
  {
   "cell_type": "code",
   "execution_count": 9,
   "metadata": {
    "slideshow": {
     "slide_type": "subslide"
    }
   },
   "outputs": [],
   "source": [
    "def J_(h,theta,X,y,lamb=0):\n",
    "    m = float(len(y))\n",
    "    f = h(theta, X, eps=10**-7)\n",
    "    j = 1.0/m \\\n",
    "        * -np.sum(np.multiply(y, np.log(f)) + \n",
    "                  np.multiply(1 - y, np.log(1 - f)), axis=0) \\\n",
    "        + lamb/(2*m) * np.sum(np.power(theta[1:] ,2))\n",
    "    return j\n",
    "\n",
    "def dJ_(h,theta,X,y,lamb=0):\n",
    "    m = float(y.shape[0])\n",
    "    g = 1.0/y.shape[0]*(X.T*(h(theta,X)-y))\n",
    "    g[1:] += lamb/m * theta[1:]\n",
    "    return g"
   ]
  },
  {
   "cell_type": "code",
   "execution_count": 10,
   "metadata": {
    "slideshow": {
     "slide_type": "notes"
    }
   },
   "outputs": [],
   "source": [
    "slider_lambda = widgets.FloatSlider(min=0.0, max=0.5, step=0.005, value=0.01, description=r'$\\lambda$', width=300)\n",
    "\n",
    "def slide_regularization_example_2(lamb):\n",
    "    draw_regularization_example(X, Y, lamb=lamb)"
   ]
  },
  {
   "cell_type": "code",
   "execution_count": 11,
   "metadata": {
    "slideshow": {
     "slide_type": "subslide"
    }
   },
   "outputs": [
    {
     "data": {
      "application/vnd.jupyter.widget-view+json": {
       "model_id": "024311266f8349c09f26870a8995213e",
       "version_major": 2,
       "version_minor": 0
      },
      "text/plain": [
       "interactive(children=(FloatSlider(value=0.01, description='$\\\\lambda$', max=0.5, step=0.005), Button(descripti…"
      ]
     },
     "metadata": {},
     "output_type": "display_data"
    },
    {
     "data": {
      "text/plain": [
       "<function __main__.slide_regularization_example_2(lamb)>"
      ]
     },
     "execution_count": 11,
     "metadata": {},
     "output_type": "execute_result"
    }
   ],
   "source": [
    "widgets.interact_manual(slide_regularization_example_2, lamb=slider_lambda)"
   ]
  },
  {
   "cell_type": "code",
   "execution_count": 12,
   "metadata": {
    "slideshow": {
     "slide_type": "notes"
    }
   },
   "outputs": [],
   "source": [
    "def cost_lambda_fun(lamb):\n",
    "    theta = np.matrix(np.zeros(X.shape[1])).reshape(X.shape[1],1)\n",
    "    thetaBest, err = SGD(h, J, dJ, theta, X, Y, alpha=1, adaGrad=True, maxEpochs=2500, batchSize=100, \n",
    "                         logError=True, validate=0.25, valStep=1, lamb=lamb)\n",
    "    return err[1][-1], err[3][-1]\n",
    "\n",
    "def plot_cost_lambda():\n",
    "    plt.figure(figsize=(16,8))\n",
    "    ax = plt.subplot(111)\n",
    "    Lambda = np.arange(0.0, 1.0, 0.01)\n",
    "    Costs = [cost_lambda_fun(lamb) for lamb in Lambda]\n",
    "    CostTrain = [cost[0] for cost in Costs]\n",
    "    CostCV = [cost[1] for cost in Costs]\n",
    "    plt.plot(Lambda, CostTrain, lw=3, label='training error')\n",
    "    plt.plot(Lambda, CostCV, lw=3, label='validation error')\n",
    "    ax.set_xlabel(r'$\\lambda$')\n",
    "    ax.set_ylabel(u'cost')\n",
    "    plt.legend()\n",
    "    plt.ylim(0.2,0.8)"
   ]
  },
  {
   "cell_type": "code",
   "execution_count": 13,
   "metadata": {
    "slideshow": {
     "slide_type": "subslide"
    }
   },
   "outputs": [
    {
     "data": {
      "image/png": "[encoded data removed]",
      "text/plain": [
       "<Figure size 1152x576 with 1 Axes>"
      ]
     },
     "metadata": {
      "needs_background": "light"
     },
     "output_type": "display_data"
    }
   ],
   "source": [
    "plot_cost_lambda()"
   ]
  },
  {
   "cell_type": "markdown",
   "metadata": {
    "slideshow": {
     "slide_type": "slide"
    }
   },
   "source": [
    "## 5.3. Krzywa uczenia się"
   ]
  },
  {
   "cell_type": "markdown",
   "metadata": {
    "slideshow": {
     "slide_type": "subslide"
    }
   },
   "source": [
    "* Krzywa uczenia pozwala sprawdzić, czy uczenie przebiega poprawnie.\n",
    "* Krzywa uczenia to wykres zależności między wielkością zbioru treningowego a wartością funkcji kosztu.\n",
    "* Wraz ze wzrostem wielkości zbioru treningowego wartość funkcji kosztu na zbiorze treningowym rośnie.\n",
    "* Wraz ze wzrostem wielkości zbioru treningowego wartość funkcji kosztu na zbiorze walidacyjnym maleje."
   ]
  },
  {
   "cell_type": "code",
   "execution_count": 14,
   "metadata": {
    "slideshow": {
     "slide_type": "notes"
    }
   },
   "outputs": [],
   "source": [
    "def cost_trainsetsize_fun(m):\n",
    "    theta = np.matrix(np.zeros(X.shape[1])).reshape(X.shape[1],1)\n",
    "    thetaBest, err = SGD(h, J, dJ, theta, X, Y, alpha=1, adaGrad=True, maxEpochs=2500, batchSize=100, \n",
    "                         logError=True, validate=0.25, valStep=1, lamb=0.01, trainsetsize=m)\n",
    "    return err[1][-1], err[3][-1]\n",
    "\n",
    "def plot_learning_curve():\n",
    "    plt.figure(figsize=(16,8))\n",
    "    ax = plt.subplot(111)\n",
    "    M = np.arange(0.3, 1.0, 0.05)\n",
    "    Costs = [cost_trainsetsize_fun(m) for m in M]\n",
    "    CostTrain = [cost[0] for cost in Costs]\n",
    "    CostCV = [cost[1] for cost in Costs]\n",
    "    plt.plot(M, CostTrain, lw=3, label='training error')\n",
    "    plt.plot(M, CostCV, lw=3, label='validation error')\n",
    "    ax.set_xlabel(u'trainset size')\n",
    "    ax.set_ylabel(u'cost')\n",
    "    plt.legend()"
   ]
  },
  {
   "cell_type": "markdown",
   "metadata": {
    "slideshow": {
     "slide_type": "subslide"
    }
   },
   "source": [
    "### Krzywa uczenia a obciążenie i wariancja\n",
    "\n",
    "Wykreślenie krzywej uczenia pomaga diagnozować nadmierne i niedostateczne dopasowanie:\n",
    "\n",
    "<img width=\"100%\" src=\"learning-curves.png\"/>\n",
    "\n",
    "Źródło: http://www.ritchieng.com/machinelearning-learning-curve"
   ]
  },
  {
   "cell_type": "code",
   "execution_count": 15,
   "metadata": {
    "slideshow": {
     "slide_type": "subslide"
    }
   },
   "outputs": [
    {
     "data": {
      "image/png": "[encoded data removed]",
      "text/plain": [
       "<Figure size 1152x576 with 1 Axes>"
      ]
     },
     "metadata": {
      "needs_background": "light"
     },
     "output_type": "display_data"
    }
   ],
   "source": [
    "plot_learning_curve()"
   ]
  },
  {
   "cell_type": "markdown",
   "metadata": {
    "slideshow": {
     "slide_type": "slide"
    }
   },
   "source": [
    "## 5.4. Obserwacje odstające"
   ]
  },
  {
   "cell_type": "markdown",
   "metadata": {
    "slideshow": {
     "slide_type": "notes"
    }
   },
   "source": [
    "**Obserwacje odstające** (*outliers*) – to wszelkie obserwacje posiadające nietypową wartość.\n",
    "\n",
    "Mogą być na przykład rezultatem błędnego pomiaru albo pomyłki przy wprowadzaniu danych do bazy, ale nie tylko.\n",
    "\n",
    "Obserwacje odstające mogą niekiedy znacząco wpłynąć na parametry modelu, dlatego ważne jest, żeby takie obserwacje odrzucić zanim przystąpi się do tworzenia modelu."
   ]
  },
  {
   "cell_type": "markdown",
   "metadata": {},
   "source": [
    "W poniższym przykładzie można zobaczyć wpływ obserwacji odstających na wynik modelowania na przykładzie danych dotyczących cen mieszkań zebranych z ogłoszeń na portalu Gratka.pl: tutaj przykładem obserwacji odstającej może być ogłoszenie, w którym podano cenę w tys. zł zamiast ceny w zł."
   ]
  },
  {
   "cell_type": "code",
   "execution_count": 16,
   "metadata": {
    "slideshow": {
     "slide_type": "notes"
    }
   },
   "outputs": [],
   "source": [
    "# Funkcja regresji liniowej\n",
    "\n",
    "def h_linear(Theta, x):\n",
    "    return x * Theta\n",
    "\n",
    "def linear_regression(theta):\n",
    "    return lambda x: h_linear(theta, x)\n",
    "\n",
    "# Wykres krzywej regresji (wersja macierzowa)\n",
    "def plot_regression(fig, fun, theta, X):\n",
    "    ax = fig.axes[0]\n",
    "    x0 = np.min(X[:, 1]) - 1.0\n",
    "    x1 = np.max(X[:, 1]) + 1.0\n",
    "    L = [x0, x1]\n",
    "    LX = np.matrix([1, x0, 1, x1]).reshape(2, 2)\n",
    "    ax.plot(L, fun(theta, LX), linewidth='2',\n",
    "            label=(r'$y={theta0:.2}{op}{theta1:.2}x$'.format(\n",
    "                theta0=float(theta[0][0]),\n",
    "                theta1=(float(theta[1][0]) if theta[1][0] >= 0 else float(-theta[1][0])),\n",
    "                op='+' if theta[1][0] >= 0 else '-')))"
   ]
  },
  {
   "cell_type": "code",
   "execution_count": 18,
   "metadata": {
    "slideshow": {
     "slide_type": "notes"
    }
   },
   "outputs": [],
   "source": [
    "# Wczytanie danych (mieszkania) przy pomocy biblioteki pandas\n",
    "\n",
    "alldata = pandas.read_csv('data_flats_with_outliers.tsv', sep='\\t',\n",
    "                         names=['price', 'isNew', 'rooms', 'floor', 'location', 'sqrMetres'])\n",
    "data = np.matrix(alldata[['price', 'sqrMetres']])\n",
    "\n",
    "m, n_plus_1 = data.shape\n",
    "n = n_plus_1 - 1\n",
    "Xn = data[:, 0:n]\n",
    "\n",
    "Xo = np.matrix(np.concatenate((np.ones((m, 1)), Xn), axis=1)).reshape(m, n + 1)\n",
    "yo = np.matrix(data[:, -1]).reshape(m, 1)\n",
    "\n",
    "Xo /= np.amax(Xo, axis=0)\n",
    "yo /= np.amax(yo, axis=0)"
   ]
  },
  {
   "cell_type": "code",
   "execution_count": 19,
   "metadata": {
    "slideshow": {
     "slide_type": "subslide"
    }
   },
   "outputs": [
    {
     "data": {
      "image/png": "[encoded data removed]",
      "text/plain": [
       "<Figure size 691.2x388.8 with 1 Axes>"
      ]
     },
     "metadata": {
      "needs_background": "light"
     },
     "output_type": "display_data"
    }
   ],
   "source": [
    "fig = plot_data(Xo, yo, xlabel=u'metraż', ylabel=u'cena')\n",
    "theta_start = np.matrix([0.0, 0.0]).reshape(2, 1)\n",
    "theta, logs = gradient_descent(cost, gradient, theta_start, Xo, yo, alpha=0.01)\n",
    "plot_regression(fig, h_linear, theta, Xo)"
   ]
  },
  {
   "cell_type": "markdown",
   "metadata": {
    "slideshow": {
     "slide_type": "notes"
    }
   },
   "source": [
    "Na powyższym przykładzie obserwacja odstająca jawi sie jako pojedynczy punkt po prawej stronie wykresu. Widzimy, że otrzymana krzywa regresji zamiast odwzorowywać ogólny trend, próbuje „dopasować się” do tej pojedynczej obserwacji.\n",
    "\n",
    "Dlatego taką obserwację należy usunąć ze zbioru danych (zobacz ponizej)."
   ]
  },
  {
   "cell_type": "code",
   "execution_count": 20,
   "metadata": {
    "slideshow": {
     "slide_type": "subslide"
    }
   },
   "outputs": [],
   "source": [
    "# Odrzućmy obserwacje odstające\n",
    "alldata_no_outliers = [\n",
    "    (index, item) for index, item in alldata.iterrows() \n",
    "    if item.price > 100 and item.sqrMetres > 10]\n",
    "\n",
    "alldata_no_outliers = alldata.loc[(alldata['price'] > 100) & (alldata['sqrMetres'] > 100)]"
   ]
  },
  {
   "cell_type": "code",
   "execution_count": 21,
   "metadata": {
    "slideshow": {
     "slide_type": "notes"
    }
   },
   "outputs": [],
   "source": [
    "data = np.matrix(alldata_no_outliers[['price', 'sqrMetres']])\n",
    "\n",
    "m, n_plus_1 = data.shape\n",
    "n = n_plus_1 - 1\n",
    "Xn = data[:, 0:n]\n",
    "\n",
    "Xo = np.matrix(np.concatenate((np.ones((m, 1)), Xn), axis=1)).reshape(m, n + 1)\n",
    "yo = np.matrix(data[:, -1]).reshape(m, 1)\n",
    "\n",
    "Xo /= np.amax(Xo, axis=0)\n",
    "yo /= np.amax(yo, axis=0)"
   ]
  },
  {
   "cell_type": "code",
   "execution_count": 22,
   "metadata": {
    "slideshow": {
     "slide_type": "subslide"
    }
   },
   "outputs": [
    {
     "data": {
      "image/png": "[encoded data removed]",
      "text/plain": [
       "<Figure size 691.2x388.8 with 1 Axes>"
      ]
     },
     "metadata": {
      "needs_background": "light"
     },
     "output_type": "display_data"
    }
   ],
   "source": [
    "fig = plot_data(Xo, yo, xlabel=u'metraż', ylabel=u'cena')\n",
    "theta_start = np.matrix([0.0, 0.0]).reshape(2, 1)\n",
    "theta, logs = gradient_descent(cost, gradient, theta_start, Xo, yo, alpha=0.01)\n",
    "plot_regression(fig, h_linear, theta, Xo)"
   ]
  },
  {
   "cell_type": "markdown",
   "metadata": {},
   "source": [
    "Na powyższym wykresie widać, że po odrzuceniu obserwacji odstających otrzymujemy dużo bardziej „wiarygodną” krzywą regresji."
   ]
  }
 ],
 "metadata": {
  "celltoolbar": "Slideshow",
  "kernelspec": {
   "display_name": "Python 3",
   "language": "python",
   "name": "python3"
  },
  "language_info": {
   "codemirror_mode": {
    "name": "ipython",
    "version": 3
   },
   "file_extension": ".py",
   "mimetype": "text/x-python",
   "name": "python",
   "nbconvert_exporter": "python",
   "pygments_lexer": "ipython3",
   "version": "3.7.4"
  },
  "livereveal": {
   "start_slideshow_at": "selected",
   "theme": "amu"
  }
 },
 "nbformat": 4,
 "nbformat_minor": 4
}
